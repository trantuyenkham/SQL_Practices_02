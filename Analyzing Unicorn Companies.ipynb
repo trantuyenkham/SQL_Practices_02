{
 "cells": [
  {
   "cell_type": "markdown",
   "id": "1fe66cd5-4e11-4046-9e68-016430b84ecd",
   "metadata": {},
   "source": [
    "Did you know that the average return from investing in stocks is 10% per year! But who wants to be average?! \n",
    "\n",
    "You have been asked to support an investment firm by analyzing trends in high-growth companies. They are interested in understanding which industries are producing the highest valuations and the rate at which new high-value companies are emerging. Providing them with this information gives them a competitive insight as to industry trends and how they should structure their portfolio looking forward.\n",
    "\n",
    "You have been given access to their `unicorns` database, which contains the following tables:\n",
    "\n",
    "`dates`\n",
    "| Column       | Description                                  |\n",
    "|------------- |--------------------------------------------- |\n",
    "| company_id   | A unique ID for the company.                 |\n",
    "| date_joined  | The date that the company became a unicorn.  |\n",
    "| year_founded | The year that the company was founded.       |\n",
    "\n",
    "`funding`\n",
    "| Column           | Description                                  |\n",
    "|----------------- |--------------------------------------------- |\n",
    "| company_id       | A unique ID for the company.                 |\n",
    "| valuation        | Company value in US dollars.                 |\n",
    "| funding          | The amount of funding raised in US dollars.  |\n",
    "| select_investors | A list of key investors in the company.      |\n",
    "\n",
    "`industries`\n",
    "| Column       | Description                                  |\n",
    "|------------- |--------------------------------------------- |\n",
    "| company_id   | A unique ID for the company.                 |\n",
    "| industry     | The industry that the company operates in.   |\n",
    "\n",
    "`companies`\n",
    "| Column       | Description                                       |\n",
    "|------------- |-------------------------------------------------- |\n",
    "| company_id   | A unique ID for the company.                      |\n",
    "| company      | The name of the company.                          |\n",
    "| city         | The city where the company is headquartered.      |\n",
    "| country      | The country where the company is headquartered.   |\n",
    "| continent    | The continent where the company is headquartered. |\n"
   ]
  },
  {
   "cell_type": "markdown",
   "id": "e3488153-d2b4-4a4f-b27d-00b365e0fccb",
   "metadata": {},
   "source": [
    "[1] Indentify three best performing industries based on the number of unicorns created over the last three years (2019, 2020 and 2021) combined."
   ]
  },
  {
   "cell_type": "code",
   "execution_count": 22,
   "id": "f8e98031-d057-4459-9965-b6a4378325ed",
   "metadata": {
    "customType": "sql",
    "dataFrameVariableName": "df1",
    "executionTime": 3138,
    "lastSuccessfullyExecutedCode": "  SELECT industries.industry AS industry, COUNT(dates.company_id) AS num_unicorns\n  FROM dates\n  JOIN industries ON dates.company_id = industries.company_id\n  WHERE DATE_PART('year',dates.date_joined) between 2019 AND 2021\n  GROUP BY 1\n  ORDER BY 2 DESC\n  LIMIT 3",
    "sqlCellMode": "dataFrame",
    "sqlSource": {
     "integrationId": "89e17161-a224-4a8a-846b-0adc0fe7a4b1",
     "type": "integration"
    }
   },
   "outputs": [
    {
     "@datacamp/metadata": {
      "executedQuery": "  SELECT industries.industry AS industry, COUNT(dates.company_id) AS num_unicorns\n  FROM dates\n  JOIN industries ON dates.company_id = industries.company_id\n  WHERE DATE_PART('year',dates.date_joined) between 2019 AND 2021\n  GROUP BY 1\n  ORDER BY 2 DESC\n  LIMIT 3",
      "executedQueryParameters": []
     },
     "data": {
      "application/com.datacamp.data-table.v1+json": {
       "table": {
        "data": [
         {
          "index": 0,
          "industry": "Fintech",
          "num_unicorns": 173
         },
         {
          "index": 1,
          "industry": "Internet software & services",
          "num_unicorns": 152
         },
         {
          "index": 2,
          "industry": "E-commerce & direct-to-consumer",
          "num_unicorns": 75
         }
        ],
        "schema": {
         "fields": [
          {
           "name": "index",
           "type": "integer"
          },
          {
           "name": "industry",
           "type": "string"
          },
          {
           "name": "num_unicorns",
           "type": "integer"
          }
         ],
         "pandas_version": "1.4.0",
         "primaryKey": [
          "index"
         ]
        }
       },
       "total_rows": 3,
       "truncation_type": null
      },
      "text/html": [
       "<div>\n",
       "<style scoped>\n",
       "    .dataframe tbody tr th:only-of-type {\n",
       "        vertical-align: middle;\n",
       "    }\n",
       "\n",
       "    .dataframe tbody tr th {\n",
       "        vertical-align: top;\n",
       "    }\n",
       "\n",
       "    .dataframe thead th {\n",
       "        text-align: right;\n",
       "    }\n",
       "</style>\n",
       "<table border=\"1\" class=\"dataframe\">\n",
       "  <thead>\n",
       "    <tr style=\"text-align: right;\">\n",
       "      <th></th>\n",
       "      <th>industry</th>\n",
       "      <th>num_unicorns</th>\n",
       "    </tr>\n",
       "  </thead>\n",
       "  <tbody>\n",
       "    <tr>\n",
       "      <th>0</th>\n",
       "      <td>Fintech</td>\n",
       "      <td>173</td>\n",
       "    </tr>\n",
       "    <tr>\n",
       "      <th>1</th>\n",
       "      <td>Internet software &amp; services</td>\n",
       "      <td>152</td>\n",
       "    </tr>\n",
       "    <tr>\n",
       "      <th>2</th>\n",
       "      <td>E-commerce &amp; direct-to-consumer</td>\n",
       "      <td>75</td>\n",
       "    </tr>\n",
       "  </tbody>\n",
       "</table>\n",
       "</div>"
      ],
      "text/plain": [
       "                          industry  num_unicorns\n",
       "0                          Fintech           173\n",
       "1     Internet software & services           152\n",
       "2  E-commerce & direct-to-consumer            75"
      ]
     },
     "execution_count": 22,
     "metadata": {},
     "output_type": "execute_result"
    }
   ],
   "source": [
    "SELECT industries.industry AS industry, COUNT(dates.company_id) AS num_unicorns\n",
    "FROM dates\n",
    "JOIN industries ON dates.company_id = industries.company_id\n",
    "WHERE DATE_PART('year',dates.date_joined) between 2019 AND 2021\n",
    "GROUP BY 1\n",
    "ORDER BY 2 DESC\n",
    "LIMIT 3"
   ]
  },
  {
   "cell_type": "markdown",
   "id": "2d5fc323-4972-454b-8474-fd1361e379a3",
   "metadata": {},
   "source": [
    "[2] Analyze three best performing industries by year based on the number of unicorns created over the last three years (2019, 2020 and 2021) combined."
   ]
  },
  {
   "cell_type": "code",
   "execution_count": 29,
   "id": "6ec4e5d8-f056-4415-89c0-59f7fd7798b3",
   "metadata": {
    "chartConfig": {
     "bar": {
      "hasRoundedCorners": true,
      "stacked": false
     },
     "groupBy": {
      "field": "industry",
      "type": "string"
     },
     "type": "bar",
     "version": "v1",
     "x": {
      "field": "year",
      "type": "integer"
     },
     "y": {
      "field": "num_unicorns",
      "type": "integer"
     }
    },
    "customType": "sql",
    "dataFrameVariableName": "df2",
    "executionTime": 2753,
    "lastSuccessfullyExecutedCode": "SELECT industries.industry AS industry,\nDATE_PART('year',dates.date_joined) AS year,\nCOUNT(dates.company_id) AS num_unicorns\nFROM dates\nJOIN industries ON dates.company_id = industries.company_id\nWHERE industry IN \n  (SELECT industries.industry AS industry\n  FROM dates\n  JOIN industries ON dates.company_id = industries.company_id\n  GROUP BY 1\n  ORDER BY COUNT(dates.company_id) DESC\n  LIMIT 3)\nAND (DATE_PART('year',dates.date_joined) between 2019 AND 2021)\nGROUP BY 1, 2\nORDER BY 1, 2 DESC",
    "sqlCellMode": "dataFrame",
    "sqlSource": {
     "integrationId": "89e17161-a224-4a8a-846b-0adc0fe7a4b1",
     "type": "integration"
    },
    "visualizeDataframe": true
   },
   "outputs": [
    {
     "@datacamp/metadata": {
      "executedQuery": "SELECT industries.industry AS industry,\nDATE_PART('year',dates.date_joined) AS year,\nCOUNT(dates.company_id) AS num_unicorns\nFROM dates\nJOIN industries ON dates.company_id = industries.company_id\nWHERE industry IN \n  (SELECT industries.industry AS industry\n  FROM dates\n  JOIN industries ON dates.company_id = industries.company_id\n  GROUP BY 1\n  ORDER BY COUNT(dates.company_id) DESC\n  LIMIT 3)\nAND (DATE_PART('year',dates.date_joined) between 2019 AND 2021)\nGROUP BY 1, 2\nORDER BY 1, 2 DESC",
      "executedQueryParameters": []
     },
     "data": {
      "application/com.datacamp.data-table.v1+json": {
       "table": {
        "data": [
         {
          "index": 0,
          "industry": "E-commerce & direct-to-consumer",
          "num_unicorns": 47,
          "year": 2021
         },
         {
          "index": 1,
          "industry": "E-commerce & direct-to-consumer",
          "num_unicorns": 16,
          "year": 2020
         },
         {
          "index": 2,
          "industry": "E-commerce & direct-to-consumer",
          "num_unicorns": 12,
          "year": 2019
         },
         {
          "index": 3,
          "industry": "Fintech",
          "num_unicorns": 138,
          "year": 2021
         },
         {
          "index": 4,
          "industry": "Fintech",
          "num_unicorns": 15,
          "year": 2020
         },
         {
          "index": 5,
          "industry": "Fintech",
          "num_unicorns": 20,
          "year": 2019
         },
         {
          "index": 6,
          "industry": "Internet software & services",
          "num_unicorns": 119,
          "year": 2021
         },
         {
          "index": 7,
          "industry": "Internet software & services",
          "num_unicorns": 20,
          "year": 2020
         },
         {
          "index": 8,
          "industry": "Internet software & services",
          "num_unicorns": 13,
          "year": 2019
         }
        ],
        "schema": {
         "fields": [
          {
           "name": "index",
           "type": "integer"
          },
          {
           "name": "industry",
           "type": "string"
          },
          {
           "name": "year",
           "type": "integer"
          },
          {
           "name": "num_unicorns",
           "type": "integer"
          }
         ],
         "pandas_version": "1.4.0",
         "primaryKey": [
          "index"
         ]
        }
       },
       "total_rows": 9,
       "truncation_type": null
      },
      "text/html": [
       "<div>\n",
       "<style scoped>\n",
       "    .dataframe tbody tr th:only-of-type {\n",
       "        vertical-align: middle;\n",
       "    }\n",
       "\n",
       "    .dataframe tbody tr th {\n",
       "        vertical-align: top;\n",
       "    }\n",
       "\n",
       "    .dataframe thead th {\n",
       "        text-align: right;\n",
       "    }\n",
       "</style>\n",
       "<table border=\"1\" class=\"dataframe\">\n",
       "  <thead>\n",
       "    <tr style=\"text-align: right;\">\n",
       "      <th></th>\n",
       "      <th>industry</th>\n",
       "      <th>year</th>\n",
       "      <th>num_unicorns</th>\n",
       "    </tr>\n",
       "  </thead>\n",
       "  <tbody>\n",
       "    <tr>\n",
       "      <th>0</th>\n",
       "      <td>E-commerce &amp; direct-to-consumer</td>\n",
       "      <td>2021</td>\n",
       "      <td>47</td>\n",
       "    </tr>\n",
       "    <tr>\n",
       "      <th>1</th>\n",
       "      <td>E-commerce &amp; direct-to-consumer</td>\n",
       "      <td>2020</td>\n",
       "      <td>16</td>\n",
       "    </tr>\n",
       "    <tr>\n",
       "      <th>2</th>\n",
       "      <td>E-commerce &amp; direct-to-consumer</td>\n",
       "      <td>2019</td>\n",
       "      <td>12</td>\n",
       "    </tr>\n",
       "    <tr>\n",
       "      <th>3</th>\n",
       "      <td>Fintech</td>\n",
       "      <td>2021</td>\n",
       "      <td>138</td>\n",
       "    </tr>\n",
       "    <tr>\n",
       "      <th>4</th>\n",
       "      <td>Fintech</td>\n",
       "      <td>2020</td>\n",
       "      <td>15</td>\n",
       "    </tr>\n",
       "    <tr>\n",
       "      <th>5</th>\n",
       "      <td>Fintech</td>\n",
       "      <td>2019</td>\n",
       "      <td>20</td>\n",
       "    </tr>\n",
       "    <tr>\n",
       "      <th>6</th>\n",
       "      <td>Internet software &amp; services</td>\n",
       "      <td>2021</td>\n",
       "      <td>119</td>\n",
       "    </tr>\n",
       "    <tr>\n",
       "      <th>7</th>\n",
       "      <td>Internet software &amp; services</td>\n",
       "      <td>2020</td>\n",
       "      <td>20</td>\n",
       "    </tr>\n",
       "    <tr>\n",
       "      <th>8</th>\n",
       "      <td>Internet software &amp; services</td>\n",
       "      <td>2019</td>\n",
       "      <td>13</td>\n",
       "    </tr>\n",
       "  </tbody>\n",
       "</table>\n",
       "</div>"
      ],
      "text/plain": [
       "                          industry  year  num_unicorns\n",
       "0  E-commerce & direct-to-consumer  2021            47\n",
       "1  E-commerce & direct-to-consumer  2020            16\n",
       "2  E-commerce & direct-to-consumer  2019            12\n",
       "3                          Fintech  2021           138\n",
       "4                          Fintech  2020            15\n",
       "5                          Fintech  2019            20\n",
       "6     Internet software & services  2021           119\n",
       "7     Internet software & services  2020            20\n",
       "8     Internet software & services  2019            13"
      ]
     },
     "execution_count": 29,
     "metadata": {},
     "output_type": "execute_result"
    }
   ],
   "source": [
    "SELECT industries.industry AS industry,\n",
    "DATE_PART('year',dates.date_joined) AS year,\n",
    "COUNT(dates.company_id) AS num_unicorns\n",
    "FROM dates\n",
    "JOIN industries ON dates.company_id = industries.company_id\n",
    "WHERE industry IN \n",
    "  (SELECT industries.industry AS industry\n",
    "  FROM dates\n",
    "  JOIN industries ON dates.company_id = industries.company_id\n",
    "  GROUP BY 1\n",
    "  ORDER BY COUNT(dates.company_id) DESC\n",
    "  LIMIT 3)\n",
    "AND (DATE_PART('year',dates.date_joined) between 2019 AND 2021)\n",
    "GROUP BY 1, 2\n",
    "ORDER BY 1, 2 DESC"
   ]
  },
  {
   "cell_type": "markdown",
   "id": "11061f7b-01d8-4314-9798-38cd414c94c4",
   "metadata": {},
   "source": [
    "[3] Demonstrate the industry, the year, the number of companies in these industries that became unicorns each year in 2019, 2020 and 2021, along with the average valuation per industry per year,  coverted to billions of dollars and rounded to two decimal places."
   ]
  },
  {
   "cell_type": "code",
   "execution_count": 30,
   "id": "7bda904b-0b3b-4b1e-9a3d-4c4aa9b3d3d3",
   "metadata": {
    "chartConfig": {
     "bar": {
      "hasRoundedCorners": true,
      "stacked": false
     },
     "type": "bar",
     "version": "v1"
    },
    "customType": "sql",
    "dataFrameVariableName": "df",
    "executionTime": 2554,
    "initial": false,
    "integrationId": "89e17161-a224-4a8a-846b-0adc0fe7a4b1",
    "lastSuccessfullyExecutedCode": "SELECT industries.industry AS industry,\nDATE_PART('year',dates.date_joined) AS year,\nCOUNT(dates.company_id) AS num_unicorns,\nROUND(AVG(funding.valuation)/1000000000,2) AS average_valuation_billions\nFROM dates\nJOIN industries ON dates.company_id = industries.company_id\nJOIN funding ON dates.company_id = funding.company_id\nWHERE industry IN\n  (SELECT industries.industry AS industry\n  FROM dates\n  JOIN industries ON dates.company_id = industries.company_id\n  GROUP BY 1\n  ORDER BY COUNT(dates.company_id) DESC\n  LIMIT 3)\nAND (DATE_PART('year',dates.date_joined) between 2019 AND 2021)\nGROUP BY 1, 2\nORDER BY 1, 2 DESC",
    "visualizeDataframe": false
   },
   "outputs": [
    {
     "@datacamp/metadata": {
      "executedQuery": "SELECT industries.industry AS industry,\nDATE_PART('year',dates.date_joined) AS year,\nCOUNT(dates.company_id) AS num_unicorns,\nROUND(AVG(funding.valuation)/1000000000,2) AS average_valuation_billions\nFROM dates\nJOIN industries ON dates.company_id = industries.company_id\nJOIN funding ON dates.company_id = funding.company_id\nWHERE industry IN\n  (SELECT industries.industry AS industry\n  FROM dates\n  JOIN industries ON dates.company_id = industries.company_id\n  GROUP BY 1\n  ORDER BY COUNT(dates.company_id) DESC\n  LIMIT 3)\nAND (DATE_PART('year',dates.date_joined) between 2019 AND 2021)\nGROUP BY 1, 2\nORDER BY 1, 2 DESC",
      "executedQueryParameters": []
     },
     "data": {
      "application/com.datacamp.data-table.v1+json": {
       "table": {
        "data": [
         {
          "average_valuation_billions": 2.47,
          "index": 0,
          "industry": "E-commerce & direct-to-consumer",
          "num_unicorns": 47,
          "year": 2021
         },
         {
          "average_valuation_billions": 4,
          "index": 1,
          "industry": "E-commerce & direct-to-consumer",
          "num_unicorns": 16,
          "year": 2020
         },
         {
          "average_valuation_billions": 2.58,
          "index": 2,
          "industry": "E-commerce & direct-to-consumer",
          "num_unicorns": 12,
          "year": 2019
         },
         {
          "average_valuation_billions": 2.75,
          "index": 3,
          "industry": "Fintech",
          "num_unicorns": 138,
          "year": 2021
         },
         {
          "average_valuation_billions": 4.33,
          "index": 4,
          "industry": "Fintech",
          "num_unicorns": 15,
          "year": 2020
         },
         {
          "average_valuation_billions": 6.8,
          "index": 5,
          "industry": "Fintech",
          "num_unicorns": 20,
          "year": 2019
         },
         {
          "average_valuation_billions": 2.15,
          "index": 6,
          "industry": "Internet software & services",
          "num_unicorns": 119,
          "year": 2021
         },
         {
          "average_valuation_billions": 4.35,
          "index": 7,
          "industry": "Internet software & services",
          "num_unicorns": 20,
          "year": 2020
         },
         {
          "average_valuation_billions": 4.23,
          "index": 8,
          "industry": "Internet software & services",
          "num_unicorns": 13,
          "year": 2019
         }
        ],
        "schema": {
         "fields": [
          {
           "name": "index",
           "type": "integer"
          },
          {
           "name": "industry",
           "type": "string"
          },
          {
           "name": "year",
           "type": "integer"
          },
          {
           "name": "num_unicorns",
           "type": "integer"
          },
          {
           "name": "average_valuation_billions",
           "type": "number"
          }
         ],
         "pandas_version": "1.4.0",
         "primaryKey": [
          "index"
         ]
        }
       },
       "total_rows": 9,
       "truncation_type": null
      },
      "text/html": [
       "<div>\n",
       "<style scoped>\n",
       "    .dataframe tbody tr th:only-of-type {\n",
       "        vertical-align: middle;\n",
       "    }\n",
       "\n",
       "    .dataframe tbody tr th {\n",
       "        vertical-align: top;\n",
       "    }\n",
       "\n",
       "    .dataframe thead th {\n",
       "        text-align: right;\n",
       "    }\n",
       "</style>\n",
       "<table border=\"1\" class=\"dataframe\">\n",
       "  <thead>\n",
       "    <tr style=\"text-align: right;\">\n",
       "      <th></th>\n",
       "      <th>industry</th>\n",
       "      <th>year</th>\n",
       "      <th>num_unicorns</th>\n",
       "      <th>average_valuation_billions</th>\n",
       "    </tr>\n",
       "  </thead>\n",
       "  <tbody>\n",
       "    <tr>\n",
       "      <th>0</th>\n",
       "      <td>E-commerce &amp; direct-to-consumer</td>\n",
       "      <td>2021</td>\n",
       "      <td>47</td>\n",
       "      <td>2.47</td>\n",
       "    </tr>\n",
       "    <tr>\n",
       "      <th>1</th>\n",
       "      <td>E-commerce &amp; direct-to-consumer</td>\n",
       "      <td>2020</td>\n",
       "      <td>16</td>\n",
       "      <td>4.00</td>\n",
       "    </tr>\n",
       "    <tr>\n",
       "      <th>2</th>\n",
       "      <td>E-commerce &amp; direct-to-consumer</td>\n",
       "      <td>2019</td>\n",
       "      <td>12</td>\n",
       "      <td>2.58</td>\n",
       "    </tr>\n",
       "    <tr>\n",
       "      <th>3</th>\n",
       "      <td>Fintech</td>\n",
       "      <td>2021</td>\n",
       "      <td>138</td>\n",
       "      <td>2.75</td>\n",
       "    </tr>\n",
       "    <tr>\n",
       "      <th>4</th>\n",
       "      <td>Fintech</td>\n",
       "      <td>2020</td>\n",
       "      <td>15</td>\n",
       "      <td>4.33</td>\n",
       "    </tr>\n",
       "    <tr>\n",
       "      <th>5</th>\n",
       "      <td>Fintech</td>\n",
       "      <td>2019</td>\n",
       "      <td>20</td>\n",
       "      <td>6.80</td>\n",
       "    </tr>\n",
       "    <tr>\n",
       "      <th>6</th>\n",
       "      <td>Internet software &amp; services</td>\n",
       "      <td>2021</td>\n",
       "      <td>119</td>\n",
       "      <td>2.15</td>\n",
       "    </tr>\n",
       "    <tr>\n",
       "      <th>7</th>\n",
       "      <td>Internet software &amp; services</td>\n",
       "      <td>2020</td>\n",
       "      <td>20</td>\n",
       "      <td>4.35</td>\n",
       "    </tr>\n",
       "    <tr>\n",
       "      <th>8</th>\n",
       "      <td>Internet software &amp; services</td>\n",
       "      <td>2019</td>\n",
       "      <td>13</td>\n",
       "      <td>4.23</td>\n",
       "    </tr>\n",
       "  </tbody>\n",
       "</table>\n",
       "</div>"
      ],
      "text/plain": [
       "                          industry  ...  average_valuation_billions\n",
       "0  E-commerce & direct-to-consumer  ...                        2.47\n",
       "1  E-commerce & direct-to-consumer  ...                        4.00\n",
       "2  E-commerce & direct-to-consumer  ...                        2.58\n",
       "3                          Fintech  ...                        2.75\n",
       "4                          Fintech  ...                        4.33\n",
       "5                          Fintech  ...                        6.80\n",
       "6     Internet software & services  ...                        2.15\n",
       "7     Internet software & services  ...                        4.35\n",
       "8     Internet software & services  ...                        4.23\n",
       "\n",
       "[9 rows x 4 columns]"
      ]
     },
     "execution_count": 30,
     "metadata": {},
     "output_type": "execute_result"
    }
   ],
   "source": [
    "SELECT industries.industry AS industry,\n",
    "DATE_PART('year',dates.date_joined) AS year,\n",
    "COUNT(dates.company_id) AS num_unicorns,\n",
    "ROUND(AVG(funding.valuation)/1000000000,2) AS average_valuation_billions\n",
    "FROM dates\n",
    "JOIN industries ON dates.company_id = industries.company_id\n",
    "JOIN funding ON dates.company_id = funding.company_id\n",
    "WHERE industry IN\n",
    "  (SELECT industries.industry AS industry\n",
    "  FROM dates\n",
    "  JOIN industries ON dates.company_id = industries.company_id\n",
    "  GROUP BY 1\n",
    "  ORDER BY COUNT(dates.company_id) DESC\n",
    "  LIMIT 3)\n",
    "AND (DATE_PART('year',dates.date_joined) between 2019 AND 2021)\n",
    "GROUP BY 1, 2\n",
    "ORDER BY 1, 2 DESC"
   ]
  }
 ],
 "metadata": {
  "colab": {
   "name": "Welcome to DataCamp Workspaces.ipynb",
   "provenance": []
  },
  "editor": "DataCamp Workspace",
  "kernelspec": {
   "display_name": "Python 3",
   "language": "python",
   "name": "python3"
  },
  "language_info": {
   "codemirror_mode": {
    "name": "ipython",
    "version": 3
   },
   "file_extension": ".py",
   "mimetype": "text/x-python",
   "name": "python",
   "nbconvert_exporter": "python",
   "pygments_lexer": "ipython3",
   "version": "3.8.8"
  }
 },
 "nbformat": 4,
 "nbformat_minor": 5
}
